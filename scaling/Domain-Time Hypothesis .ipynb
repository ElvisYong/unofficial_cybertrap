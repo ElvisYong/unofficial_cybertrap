{
 "cells": [
  {
   "cell_type": "markdown",
   "id": "a9a2ff30",
   "metadata": {},
   "source": [
    "### Fake Dataset/Import Data"
   ]
  },
  {
   "cell_type": "code",
   "execution_count": 8,
   "id": "9b56e873",
   "metadata": {
    "scrolled": false
   },
   "outputs": [
    {
     "data": {
      "text/html": [
       "<div>\n",
       "<style scoped>\n",
       "    .dataframe tbody tr th:only-of-type {\n",
       "        vertical-align: middle;\n",
       "    }\n",
       "\n",
       "    .dataframe tbody tr th {\n",
       "        vertical-align: top;\n",
       "    }\n",
       "\n",
       "    .dataframe thead th {\n",
       "        text-align: right;\n",
       "    }\n",
       "</style>\n",
       "<table border=\"1\" class=\"dataframe\">\n",
       "  <thead>\n",
       "    <tr style=\"text-align: right;\">\n",
       "      <th></th>\n",
       "      <th>Number_of_Domains</th>\n",
       "      <th>Time_Taken</th>\n",
       "    </tr>\n",
       "  </thead>\n",
       "  <tbody>\n",
       "    <tr>\n",
       "      <th>0</th>\n",
       "      <td>52</td>\n",
       "      <td>124.714253</td>\n",
       "    </tr>\n",
       "    <tr>\n",
       "      <th>1</th>\n",
       "      <td>93</td>\n",
       "      <td>231.852673</td>\n",
       "    </tr>\n",
       "    <tr>\n",
       "      <th>2</th>\n",
       "      <td>15</td>\n",
       "      <td>37.553141</td>\n",
       "    </tr>\n",
       "    <tr>\n",
       "      <th>3</th>\n",
       "      <td>72</td>\n",
       "      <td>180.580345</td>\n",
       "    </tr>\n",
       "    <tr>\n",
       "      <th>4</th>\n",
       "      <td>61</td>\n",
       "      <td>158.072864</td>\n",
       "    </tr>\n",
       "  </tbody>\n",
       "</table>\n",
       "</div>"
      ],
      "text/plain": [
       "   Number_of_Domains  Time_Taken\n",
       "0                 52  124.714253\n",
       "1                 93  231.852673\n",
       "2                 15   37.553141\n",
       "3                 72  180.580345\n",
       "4                 61  158.072864"
      ]
     },
     "execution_count": 8,
     "metadata": {},
     "output_type": "execute_result"
    }
   ],
   "source": [
    "### TO DELETE AFTER IMPORTING THE REAL DATASET\n",
    "import numpy as np\n",
    "import pandas as pd\n",
    "\n",
    "# Parameters for the synthetic data\n",
    "np.random.seed(42)  # For reproducibility\n",
    "num_samples = 50000\n",
    "x = np.random.randint(1, 100, size=num_samples)  # Number of domains\n",
    "m = 2.5  # Pods-to-domain ratio\n",
    "c = 5  # Constant setup time\n",
    "noise = np.random.normal(0, 10, size=num_samples)  # Random noise\n",
    "\n",
    "# Calculate y based on the linear model\n",
    "y = m * x + c + noise\n",
    "\n",
    "# Create a DataFrame for the dataset\n",
    "data = pd.DataFrame({'Number_of_Domains': x, 'Time_Taken': y})\n",
    "data.head()\n"
   ]
  },
  {
   "cell_type": "code",
   "execution_count": 12,
   "id": "bee01b05",
   "metadata": {},
   "outputs": [],
   "source": [
    "import pandas as pd\n",
    "\n",
    "# Path to your CSV file\n",
    "file_path = 'path_to_file.csv'\n",
    "\n",
    "# Import the data from the CSV file\n",
    "data = pd.read_csv(file_path)\n",
    "\n",
    "# Display the first few rows of the dataset to verify it was loaded correctly\n",
    "print(data.head())\n",
    "\n",
    "# Ensure the dataset has the expected columns for linear regression\n",
    "print(data.columns) \n"
   ]
  },
  {
   "cell_type": "markdown",
   "id": "d41d5416",
   "metadata": {},
   "source": [
    "### Perform Linear Regression Using statsmodels"
   ]
  },
  {
   "cell_type": "code",
   "execution_count": 9,
   "id": "ded2e919",
   "metadata": {},
   "outputs": [
    {
     "name": "stdout",
     "output_type": "stream",
     "text": [
      "                            OLS Regression Results                            \n",
      "==============================================================================\n",
      "Dep. Variable:             Time_Taken   R-squared:                       0.981\n",
      "Model:                            OLS   Adj. R-squared:                  0.981\n",
      "Method:                 Least Squares   F-statistic:                 2.547e+06\n",
      "Date:                Fri, 15 Nov 2024   Prob (F-statistic):               0.00\n",
      "Time:                        17:23:56   Log-Likelihood:            -1.8605e+05\n",
      "No. Observations:               50000   AIC:                         3.721e+05\n",
      "Df Residuals:                   49998   BIC:                         3.721e+05\n",
      "Df Model:                           1                                         \n",
      "Covariance Type:            nonrobust                                         \n",
      "=====================================================================================\n",
      "                        coef    std err          t      P>|t|      [0.025      0.975]\n",
      "-------------------------------------------------------------------------------------\n",
      "const                 5.0551      0.090     56.108      0.000       4.879       5.232\n",
      "Number_of_Domains     2.4983      0.002   1595.922      0.000       2.495       2.501\n",
      "==============================================================================\n",
      "Omnibus:                        2.977   Durbin-Watson:                   1.997\n",
      "Prob(Omnibus):                  0.226   Jarque-Bera (JB):                2.976\n",
      "Skew:                           0.019   Prob(JB):                        0.226\n",
      "Kurtosis:                       3.000   Cond. No.                         116.\n",
      "==============================================================================\n",
      "\n",
      "Notes:\n",
      "[1] Standard Errors assume that the covariance matrix of the errors is correctly specified.\n"
     ]
    }
   ],
   "source": [
    "import statsmodels.api as sm\n",
    "\n",
    "# Independent variable (x) and dependent variable (y)\n",
    "X = data['Number_of_Domains']\n",
    "Y = data['Time_Taken']\n",
    "\n",
    "# Add a constant term to the model (for the intercept)\n",
    "X = sm.add_constant(X)\n",
    "\n",
    "# Fit the Ordinary Least Squares (OLS) regression model\n",
    "model = sm.OLS(Y, X).fit()\n",
    "\n",
    "# Display the summary of the regression\n",
    "print(model.summary())\n"
   ]
  },
  {
   "cell_type": "markdown",
   "id": "38aecafa",
   "metadata": {},
   "source": [
    "### Test the Null Hypothesis (𝐻0:𝑚=0, H0:m=0)"
   ]
  },
  {
   "cell_type": "code",
   "execution_count": 10,
   "id": "552af02a",
   "metadata": {},
   "outputs": [
    {
     "name": "stdout",
     "output_type": "stream",
     "text": [
      "Reject H0: The p-value (0.0000) is less than 0.05.\n",
      "There is a significant relationship between the number of domains and time taken.\n"
     ]
    }
   ],
   "source": [
    "# Extract the p-value for the slope (m)\n",
    "p_value = model.pvalues['Number_of_Domains']\n",
    "alpha = 0.05  # Significance level\n",
    "\n",
    "# Interpret the p-value\n",
    "if p_value < alpha:\n",
    "    print(f\"Reject H0: The p-value ({p_value:.4f}) is less than {alpha}.\")\n",
    "    print(\"There is a significant relationship between the number of domains and time taken.\")\n",
    "else:\n",
    "    print(f\"Fail to reject H0: The p-value ({p_value:.4f}) is greater than {alpha}.\")\n",
    "    print(\"There is insufficient evidence to suggest a relationship between the number of domains and time taken.\")\n"
   ]
  }
 ],
 "metadata": {
  "kernelspec": {
   "display_name": "Python 3",
   "language": "python",
   "name": "python3"
  },
  "language_info": {
   "codemirror_mode": {
    "name": "ipython",
    "version": 3
   },
   "file_extension": ".py",
   "mimetype": "text/x-python",
   "name": "python",
   "nbconvert_exporter": "python",
   "pygments_lexer": "ipython3",
   "version": "3.8.8"
  }
 },
 "nbformat": 4,
 "nbformat_minor": 5
}
